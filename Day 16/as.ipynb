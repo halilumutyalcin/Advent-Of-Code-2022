{
 "cells": [
  {
   "cell_type": "code",
   "execution_count": 2,
   "outputs": [
    {
     "name": "stdout",
     "output_type": "stream",
     "text": [
      "2464\n"
     ]
    }
   ],
   "source": [
    "from collections import deque\n",
    "\n",
    "valves = {}\n",
    "tunnels = {}\n",
    "\n",
    "for line in open(\"16.in\"):\n",
    "    line = line.strip()\n",
    "    valve = line.split()[1]\n",
    "    flow = int(line.split(\";\")[0].split(\"=\")[1])\n",
    "    targets = line.split(\"to \")[1].split(\" \", 1)[1].split(\", \")\n",
    "    valves[valve] = flow\n",
    "    tunnels[valve] = targets\n",
    "\n",
    "dists = {}\n",
    "nonempty = []\n",
    "\n",
    "for valve in valves:\n",
    "    if valve != \"AA\" and not valves[valve]:\n",
    "        continue\n",
    "\n",
    "    if valve != \"AA\":\n",
    "        nonempty.append(valve)\n",
    "\n",
    "    dists[valve] = {valve: 0, \"AA\": 0}\n",
    "    visited = {valve}\n",
    "\n",
    "    queue = deque([(0, valve)])\n",
    "\n",
    "    while queue:\n",
    "        distance, position = queue.popleft()\n",
    "        for neighbor in tunnels[position]:\n",
    "            if neighbor in visited:\n",
    "                continue\n",
    "            visited.add(neighbor)\n",
    "            if valves[neighbor]:\n",
    "                dists[valve][neighbor] = distance + 1\n",
    "            queue.append((distance + 1, neighbor))\n",
    "\n",
    "    del dists[valve][valve]\n",
    "    if valve != \"AA\":\n",
    "        del dists[valve][\"AA\"]\n",
    "\n",
    "indices = {}\n",
    "\n",
    "for index, element in enumerate(nonempty):\n",
    "    indices[element] = index\n",
    "\n",
    "cache = {}\n",
    "\n",
    "\n",
    "def dfs(time, valve, bitmask):\n",
    "    if (time, valve, bitmask) in cache:\n",
    "        return cache[(time, valve, bitmask)]\n",
    "\n",
    "    maxval = 0\n",
    "    for neighbor in dists[valve]:\n",
    "        bit = 1 << indices[neighbor]\n",
    "        if bitmask & bit:\n",
    "            continue\n",
    "        remtime = time - dists[valve][neighbor] - 1\n",
    "        if remtime <= 0:\n",
    "            continue\n",
    "        maxval = max(maxval, dfs(remtime, neighbor, bitmask | bit) + valves[neighbor] * remtime)\n",
    "\n",
    "    cache[(time, valve, bitmask)] = maxval\n",
    "    return maxval\n",
    "\n",
    "\n",
    "b = (1 << len(nonempty)) - 1\n",
    "\n",
    "m = 0\n",
    "\n",
    "for i in range((b + 1) // 2):\n",
    "    m = max(m, dfs(26, \"AA\", i) + dfs(26, \"AA\", b ^ i))\n",
    "\n",
    "print(m)"
   ],
   "metadata": {
    "collapsed": false,
    "pycharm": {
     "name": "#%%\n"
    }
   }
  },
  {
   "cell_type": "code",
   "execution_count": null,
   "outputs": [],
   "source": [],
   "metadata": {
    "collapsed": false,
    "pycharm": {
     "name": "#%%\n"
    }
   }
  }
 ],
 "metadata": {
  "kernelspec": {
   "display_name": "Python 3",
   "language": "python",
   "name": "python3"
  },
  "language_info": {
   "codemirror_mode": {
    "name": "ipython",
    "version": 2
   },
   "file_extension": ".py",
   "mimetype": "text/x-python",
   "name": "python",
   "nbconvert_exporter": "python",
   "pygments_lexer": "ipython2",
   "version": "2.7.6"
  }
 },
 "nbformat": 4,
 "nbformat_minor": 0
}